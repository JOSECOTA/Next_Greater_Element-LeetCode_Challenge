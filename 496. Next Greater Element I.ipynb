{
 "cells": [
  {
   "cell_type": "code",
   "execution_count": 1,
   "id": "4af1d072",
   "metadata": {},
   "outputs": [],
   "source": [
    "def greater_element(nums1, nums2):\n",
    "    \n",
    "    list =[]\n",
    "\n",
    "    for n1 in nums1:\n",
    "        pos = nums2.index(n1)\n",
    "        for n2 in nums2[pos+1:]:\n",
    "            if n2 > n1:\n",
    "                list.append(n2)\n",
    "                break\n",
    "        else:\n",
    "            list.append(-1)\n",
    "            \n",
    "    return list\n",
    "\n",
    "\n",
    "    "
   ]
  },
  {
   "cell_type": "code",
   "execution_count": 2,
   "id": "6cb4bc0b",
   "metadata": {},
   "outputs": [
    {
     "data": {
      "text/plain": [
       "[-1, 3, -1]"
      ]
     },
     "execution_count": 2,
     "metadata": {},
     "output_type": "execute_result"
    }
   ],
   "source": [
    "greater_element([4,1,2],[1,3,4,2])"
   ]
  },
  {
   "cell_type": "code",
   "execution_count": null,
   "id": "caf37ce5",
   "metadata": {},
   "outputs": [],
   "source": []
  }
 ],
 "metadata": {
  "kernelspec": {
   "display_name": "Python 3 (ipykernel)",
   "language": "python",
   "name": "python3"
  },
  "language_info": {
   "codemirror_mode": {
    "name": "ipython",
    "version": 3
   },
   "file_extension": ".py",
   "mimetype": "text/x-python",
   "name": "python",
   "nbconvert_exporter": "python",
   "pygments_lexer": "ipython3",
   "version": "3.9.7"
  }
 },
 "nbformat": 4,
 "nbformat_minor": 5
}
